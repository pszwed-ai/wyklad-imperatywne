{
  "nbformat": 4,
  "nbformat_minor": 0,
  "metadata": {
    "accelerator": "GPU",
    "colab": {
      "name": "CUDA perfect numbers",
      "provenance": [],
      "toc_visible": true,
      "authorship_tag": "ABX9TyMcNzL1BsTMv3yT+kISPhoV",
      "include_colab_link": true
    },
    "kernelspec": {
      "display_name": "Python 3",
      "name": "python3"
    }
  },
  "cells": [
    {
      "cell_type": "markdown",
      "metadata": {
        "id": "view-in-github",
        "colab_type": "text"
      },
      "source": [
        "<a href=\"https://colab.research.google.com/github/pszwed-ai/wyklad-imperatywne/blob/main/CUDA_perfect_numbers.ipynb\" target=\"_parent\"><img src=\"https://colab.research.google.com/assets/colab-badge.svg\" alt=\"Open In Colab\"/></a>"
      ]
    },
    {
      "cell_type": "markdown",
      "metadata": {
        "id": "GHR727zDYvFp"
      },
      "source": [
        "#CUDA perfect numbers"
      ]
    },
    {
      "cell_type": "markdown",
      "metadata": {
        "id": "tluJUoAJY3Li"
      },
      "source": [
        "# 1. Init CUDA"
      ]
    },
    {
      "cell_type": "code",
      "metadata": {
        "colab": {
          "base_uri": "https://localhost:8080/"
        },
        "id": "I5jfWpezYO4k",
        "outputId": "9d4a06e6-8503-422d-afea-894f02c09747"
      },
      "source": [
        "!nvcc --version\r\n",
        "!pip install git+git://github.com/andreinechaev/nvcc4jupyter.git\r\n",
        "%load_ext nvcc_plugin"
      ],
      "execution_count": 1,
      "outputs": [
        {
          "output_type": "stream",
          "text": [
            "nvcc: NVIDIA (R) Cuda compiler driver\n",
            "Copyright (c) 2005-2020 NVIDIA Corporation\n",
            "Built on Wed_Jul_22_19:09:09_PDT_2020\n",
            "Cuda compilation tools, release 11.0, V11.0.221\n",
            "Build cuda_11.0_bu.TC445_37.28845127_0\n",
            "Collecting git+git://github.com/andreinechaev/nvcc4jupyter.git\n",
            "  Cloning git://github.com/andreinechaev/nvcc4jupyter.git to /tmp/pip-req-build-3kk5auod\n",
            "  Running command git clone -q git://github.com/andreinechaev/nvcc4jupyter.git /tmp/pip-req-build-3kk5auod\n",
            "Building wheels for collected packages: NVCCPlugin\n",
            "  Building wheel for NVCCPlugin (setup.py) ... \u001b[?25l\u001b[?25hdone\n",
            "  Created wheel for NVCCPlugin: filename=NVCCPlugin-0.0.2-cp37-none-any.whl size=4307 sha256=af7fbb3838905bbc04a08efb2cc05ad08fbd5e1662f140bcd12e18623b98e4d4\n",
            "  Stored in directory: /tmp/pip-ephem-wheel-cache-sbccay5d/wheels/10/c2/05/ca241da37bff77d60d31a9174f988109c61ba989e4d4650516\n",
            "Successfully built NVCCPlugin\n",
            "Installing collected packages: NVCCPlugin\n",
            "Successfully installed NVCCPlugin-0.0.2\n",
            "created output directory at /content/src\n",
            "Out bin /content/result.out\n"
          ],
          "name": "stdout"
        }
      ]
    },
    {
      "cell_type": "markdown",
      "metadata": {
        "id": "2oDlQaWUZSfQ"
      },
      "source": [
        "# 2. Query device"
      ]
    },
    {
      "cell_type": "code",
      "metadata": {
        "colab": {
          "base_uri": "https://localhost:8080/"
        },
        "id": "KLztWYchZVHB",
        "outputId": "613d1916-bc69-4627-c71e-d58076da73b3"
      },
      "source": [
        "%%cu\r\n",
        "\r\n",
        "#include <stdio.h>\r\n",
        "\r\n",
        "\r\n",
        "\r\n",
        "int main( void ) {\r\n",
        "    cudaDeviceProp  prop;\r\n",
        "\r\n",
        "    int count;\r\n",
        "    cudaGetDeviceCount( &count ) ;\r\n",
        "    for (int i=0; i< count; i++) {\r\n",
        "        cudaGetDeviceProperties( &prop, i );\r\n",
        "        printf( \"   --- General Information for device %d ---\\n\", i );\r\n",
        "        printf( \"Name:  %s\\n\", prop.name );\r\n",
        "        printf( \"Compute capability:  %d.%d\\n\", prop.major, prop.minor );\r\n",
        "        printf( \"Clock rate:  %d\\n\", prop.clockRate );\r\n",
        "        printf( \"Device copy overlap:  \" );\r\n",
        "        if (prop.deviceOverlap)\r\n",
        "            printf( \"Enabled\\n\" );\r\n",
        "        else\r\n",
        "            printf( \"Disabled\\n\");\r\n",
        "        printf( \"Kernel execution timeout :  \" );\r\n",
        "        if (prop.kernelExecTimeoutEnabled)\r\n",
        "            printf( \"Enabled\\n\" );\r\n",
        "        else\r\n",
        "            printf( \"Disabled\\n\" );\r\n",
        "\r\n",
        "        printf( \"   --- Memory Information for device %d ---\\n\", i );\r\n",
        "        printf( \"Total global mem:  %ld\\n\", prop.totalGlobalMem );\r\n",
        "        printf( \"Total constant Mem:  %ld\\n\", prop.totalConstMem );\r\n",
        "        printf( \"Max mem pitch:  %ld\\n\", prop.memPitch );\r\n",
        "        printf( \"Texture Alignment:  %ld\\n\", prop.textureAlignment );\r\n",
        "\r\n",
        "        printf( \"   --- MP Information for device %d ---\\n\", i );\r\n",
        "        printf( \"Multiprocessor count:  %d\\n\",\r\n",
        "                    prop.multiProcessorCount );\r\n",
        "        printf( \"Shared mem per mp:  %ld\\n\", prop.sharedMemPerBlock );\r\n",
        "        printf( \"Registers per mp:  %d\\n\", prop.regsPerBlock );\r\n",
        "        printf( \"Threads in warp:  %d\\n\", prop.warpSize );\r\n",
        "        printf( \"Max threads per block:  %d\\n\",\r\n",
        "                    prop.maxThreadsPerBlock );\r\n",
        "        printf( \"Max thread dimensions:  (%d, %d, %d)\\n\",\r\n",
        "                    prop.maxThreadsDim[0], prop.maxThreadsDim[1],\r\n",
        "                    prop.maxThreadsDim[2] );\r\n",
        "        printf( \"Max grid dimensions:  (%d, %d, %d)\\n\",\r\n",
        "                    prop.maxGridSize[0], prop.maxGridSize[1],\r\n",
        "                    prop.maxGridSize[2] );\r\n",
        "        printf( \"\\n\" );\r\n",
        "    }\r\n",
        "}\r\n"
      ],
      "execution_count": 2,
      "outputs": [
        {
          "output_type": "stream",
          "text": [
            "   --- General Information for device 0 ---\n",
            "Name:  Tesla T4\n",
            "Compute capability:  7.5\n",
            "Clock rate:  1590000\n",
            "Device copy overlap:  Enabled\n",
            "Kernel execution timeout :  Disabled\n",
            "   --- Memory Information for device 0 ---\n",
            "Total global mem:  15843721216\n",
            "Total constant Mem:  65536\n",
            "Max mem pitch:  2147483647\n",
            "Texture Alignment:  512\n",
            "   --- MP Information for device 0 ---\n",
            "Multiprocessor count:  40\n",
            "Shared mem per mp:  49152\n",
            "Registers per mp:  65536\n",
            "Threads in warp:  32\n",
            "Max threads per block:  1024\n",
            "Max thread dimensions:  (1024, 1024, 64)\n",
            "Max grid dimensions:  (2147483647, 65535, 65535)\n",
            "\n",
            "\n"
          ],
          "name": "stdout"
        }
      ]
    },
    {
      "cell_type": "markdown",
      "metadata": {
        "id": "9dUHOwu4Etmb"
      },
      "source": [
        "# Perfect numbers"
      ]
    },
    {
      "cell_type": "markdown",
      "metadata": {
        "id": "7L9pZ7xvqC5r"
      },
      "source": [
        "## Sequential host version"
      ]
    },
    {
      "cell_type": "code",
      "metadata": {
        "colab": {
          "base_uri": "https://localhost:8080/"
        },
        "id": "DCw0CTgnqIwU",
        "outputId": "4c7e76b7-b09a-4018-b2a2-2435eba3f3e9"
      },
      "source": [
        "%%cu\r\n",
        "#include <math.h>\r\n",
        "#include <stdio.h>\r\n",
        "#include <time.h>\r\n",
        "#include <stdlib.h>\r\n",
        "\r\n",
        "int is_perfect(int n){\r\n",
        "    int sum = 1;\r\n",
        "    int i;\r\n",
        "    for(i=2; i*i<n;i++) {\r\n",
        "      if (n%i == 0) {\r\n",
        "          sum+=i;\r\n",
        "          sum+=n/i;\r\n",
        "      }\r\n",
        "      i++;\r\n",
        "    }\r\n",
        "    if (i*i==n)sum+=i;\r\n",
        "    return sum == n;\r\n",
        "}\r\n",
        "\r\n",
        "void find_perfect(int*tab,int N){\r\n",
        "    tab[0]=0;\r\n",
        "    for(int i=1;i<N;i++){\r\n",
        "        tab[i]=is_perfect(i);\r\n",
        "    }\r\n",
        "}\r\n",
        "\r\n",
        "void print_perfect(int*tab,int n){\r\n",
        "    int cnt=0;\r\n",
        "    for(int i=0;i<n;i++){\r\n",
        "        if(tab[i]>0){\r\n",
        "            printf(\"%d \",i);\r\n",
        "            cnt++;\r\n",
        "        }\r\n",
        "    }\r\n",
        "    printf(\"\\nFound %d numbers\\n\",cnt);\r\n",
        "}\r\n",
        "\r\n",
        "int main(){\r\n",
        "    int N=36000000;\r\n",
        "    int*tab = (int*)malloc(N*sizeof(int));\r\n",
        "    clock_t start = clock();\r\n",
        "    find_perfect(tab,N);\r\n",
        "    clock_t end = clock();\r\n",
        "    double seconds = (double)(end - start) / CLOCKS_PER_SEC;\r\n",
        "    print_perfect(tab,N);\r\n",
        "    printf(\"\\nt=%f\",seconds);\r\n",
        "    free(tab);\r\n",
        "}"
      ],
      "execution_count": null,
      "outputs": [
        {
          "output_type": "stream",
          "text": [
            "1 6 28 496 8128 33550336 \n",
            "Found 6 numbers\n",
            "\n",
            "t=286.523575\n"
          ],
          "name": "stdout"
        }
      ]
    },
    {
      "cell_type": "markdown",
      "metadata": {
        "id": "eCwoDBg8sWZ9"
      },
      "source": [
        "##CUDAfied version"
      ]
    },
    {
      "cell_type": "code",
      "metadata": {
        "colab": {
          "base_uri": "https://localhost:8080/"
        },
        "id": "HG-H3UTBsdVh",
        "outputId": "a7143a9c-9235-40f5-f771-eaca7ae39630"
      },
      "source": [
        "%%cu\r\n",
        "#include <math.h>\r\n",
        "#include <stdio.h>\r\n",
        "#include <time.h>\r\n",
        "#include <stdlib.h>\r\n",
        "\r\n",
        "__device__ int is_perfect(int n){\r\n",
        "    int sum = 1;\r\n",
        "    int i;\r\n",
        "    for(i=2; i*i<n;i++) {\r\n",
        "      if (n%i == 0) {\r\n",
        "          sum+=i;\r\n",
        "          sum+=n/i;\r\n",
        "      }\r\n",
        "      i++;\r\n",
        "    }\r\n",
        "    if (i*i==n)sum+=i;\r\n",
        "    return sum == n;\r\n",
        "}\r\n",
        "\r\n",
        "\r\n",
        "__global__ void  find_perfect(int*tab,int N) {\r\n",
        "    int tid = blockIdx.x;    // this thread handles the data at its thread id\r\n",
        "    if (tid >= N)return;\r\n",
        "    \r\n",
        "    tab[tid]=0;\r\n",
        "    if(tid==0){\r\n",
        "        return;\r\n",
        "    }\r\n",
        "    tab[tid]=is_perfect(tid);\r\n",
        "}\r\n",
        "\r\n",
        "void print_perfect(int*tab,int n){\r\n",
        "    int cnt=0;\r\n",
        "    for(int i=0;i<n;i++){\r\n",
        "        if(tab[i]>0){\r\n",
        "            printf(\"%d \",i);\r\n",
        "            cnt++;\r\n",
        "        }\r\n",
        "    }\r\n",
        "    printf(\"\\nFound %d numbers\\n\",cnt);\r\n",
        "}\r\n",
        "\r\n",
        "int main(){\r\n",
        "    int N=36000000;\r\n",
        "    int*tab = (int*)malloc(N*sizeof(int));\r\n",
        "    int*dev_tab;\r\n",
        "    clock_t start = clock();\r\n",
        "    cudaError_t err = cudaMalloc( (void**)&dev_tab, N * sizeof(int) );\r\n",
        "    if(err!=cudaSuccess){\r\n",
        "        printf( \"%s in %s at line %d\\n\", \r\n",
        "               cudaGetErrorString( err ),__FILE__, __LINE__ );\r\n",
        "        exit( -1 );\r\n",
        "    }\r\n",
        "    find_perfect<<<N,1>>>(dev_tab,N);\r\n",
        "    \r\n",
        "    err = cudaMemcpy( tab, dev_tab, N * sizeof(int),cudaMemcpyDeviceToHost );\r\n",
        "    if(err!=cudaSuccess){\r\n",
        "        printf( \"%s in %s at line %d\\n\", \r\n",
        "               cudaGetErrorString( err ),__FILE__, __LINE__ );\r\n",
        "        exit( -1 );\r\n",
        "    }\r\n",
        "    clock_t end = clock();\r\n",
        "    double seconds = (double)(end - start) / CLOCKS_PER_SEC;\r\n",
        "    print_perfect(tab,N);\r\n",
        "    printf(\"\\nN=%d t=%f\",N,seconds);\r\n",
        "    free(tab);\r\n",
        "}"
      ],
      "execution_count": null,
      "outputs": [
        {
          "output_type": "stream",
          "text": [
            "1 6 28 496 8128 33550336 \n",
            "Found 6 numbers\n",
            "\n",
            "N=36000000 t=15.825811\n"
          ],
          "name": "stdout"
        }
      ]
    }
  ]
}